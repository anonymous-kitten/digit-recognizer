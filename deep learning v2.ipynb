{
 "cells": [
  {
   "cell_type": "code",
   "execution_count": 1,
   "metadata": {
    "collapsed": false
   },
   "outputs": [
    {
     "name": "stderr",
     "output_type": "stream",
     "text": [
      "Using TensorFlow backend.\n"
     ]
    }
   ],
   "source": [
    "import numpy as np\n",
    "import csv\n",
    "import matplotlib.pyplot as plt\n",
    "from keras.models import Sequential\n",
    "from keras.layers import Dense, Activation, Dropout\n",
    "from keras.layers.normalization import BatchNormalization\n",
    "from keras import optimizers\n",
    "from config import *\n",
    "%matplotlib inline"
   ]
  },
  {
   "cell_type": "code",
   "execution_count": 2,
   "metadata": {
    "collapsed": false
   },
   "outputs": [],
   "source": [
    "train_X, train_Y = read_training_set()\n",
    "test_X = read_test_set()"
   ]
  },
  {
   "cell_type": "code",
   "execution_count": 3,
   "metadata": {
    "collapsed": false
   },
   "outputs": [
    {
     "name": "stdout",
     "output_type": "stream",
     "text": [
      "train_X.shape = (42000, 784)\n",
      "train_Y.shape = (42000, 10)\n",
      "test_X.shape = (28000, 784)\n"
     ]
    }
   ],
   "source": [
    "print('train_X.shape =', train_X.shape)\n",
    "print('train_Y.shape =', train_Y.shape)\n",
    "print('test_X.shape =', test_X.shape)"
   ]
  },
  {
   "cell_type": "code",
   "execution_count": 4,
   "metadata": {
    "collapsed": false
   },
   "outputs": [
    {
     "name": "stdout",
     "output_type": "stream",
     "text": [
      "[0. 0. 0. 0. 0. 0. 1. 0. 0. 0.]\n"
     ]
    },
    {
     "data": {
      "image/png": "[encoded data removed]",
      "text/plain": [
       "<matplotlib.figure.Figure at 0x1e3ecc18>"
      ]
     },
     "metadata": {},
     "output_type": "display_data"
    }
   ],
   "source": [
    "print(train_Y[123])\n",
    "plot_image(train_X[123])"
   ]
  },
  {
   "cell_type": "code",
   "execution_count": 5,
   "metadata": {
    "collapsed": true
   },
   "outputs": [],
   "source": [
    "# preprocessing\n",
    "train_X = train_X / 255\n",
    "test_X = test_X / 255"
   ]
  },
  {
   "cell_type": "code",
   "execution_count": 6,
   "metadata": {
    "collapsed": false
   },
   "outputs": [],
   "source": [
    "# v2 model\n",
    "# apply deeper net\n",
    "# apply batch norm\n",
    "model = Sequential()\n",
    "\n",
    "model.add(Dense(units=256, input_dim=HEIGHT*WIDTH))\n",
    "model.add(BatchNormalization())\n",
    "model.add(Activation('relu'))\n",
    "model.add(Dropout(0.5))\n",
    "\n",
    "model.add(Dense(units=128))\n",
    "model.add(BatchNormalization())\n",
    "model.add(Activation('relu'))\n",
    "model.add(Dropout(0.5))\n",
    "\n",
    "model.add(Dense(units=64))\n",
    "model.add(BatchNormalization())\n",
    "model.add(Activation('relu'))\n",
    "model.add(Dropout(0.5))\n",
    "\n",
    "model.add(Dense(units=CLASS_NUM))\n",
    "model.add(Activation('softmax'))"
   ]
  },
  {
   "cell_type": "code",
   "execution_count": 7,
   "metadata": {
    "collapsed": false
   },
   "outputs": [],
   "source": [
    "model.compile(loss='categorical_crossentropy', optimizer='adam', metrics=['accuracy'])"
   ]
  },
  {
   "cell_type": "code",
   "execution_count": null,
   "metadata": {
    "collapsed": false,
    "scrolled": true
   },
   "outputs": [
    {
     "name": "stdout",
     "output_type": "stream",
     "text": [
      "_________________________________________________________________\n",
      "Layer (type)                 Output Shape              Param #   \n",
      "=================================================================\n",
      "dense_1 (Dense)              (None, 256)               200960    \n",
      "_________________________________________________________________\n",
      "batch_normalization_1 (Batch (None, 256)               1024      \n",
      "_________________________________________________________________\n",
      "activation_1 (Activation)    (None, 256)               0         \n",
      "_________________________________________________________________\n",
      "dropout_1 (Dropout)          (None, 256)               0         \n",
      "_________________________________________________________________\n",
      "dense_2 (Dense)              (None, 128)               32896     \n",
      "_________________________________________________________________\n",
      "batch_normalization_2 (Batch (None, 128)               512       \n",
      "_________________________________________________________________\n",
      "activation_2 (Activation)    (None, 128)               0         \n",
      "_________________________________________________________________\n",
      "dropout_2 (Dropout)          (None, 128)               0         \n",
      "_________________________________________________________________\n",
      "dense_3 (Dense)              (None, 64)                8256      \n",
      "_________________________________________________________________\n",
      "batch_normalization_3 (Batch (None, 64)                256       \n",
      "_________________________________________________________________\n",
      "activation_3 (Activation)    (None, 64)                0         \n",
      "_________________________________________________________________\n",
      "dropout_3 (Dropout)          (None, 64)                0         \n",
      "_________________________________________________________________\n",
      "dense_4 (Dense)              (None, 10)                650       \n",
      "_________________________________________________________________\n",
      "activation_4 (Activation)    (None, 10)                0         \n",
      "=================================================================\n",
      "Total params: 244,554\n",
      "Trainable params: 243,658\n",
      "Non-trainable params: 896\n",
      "_________________________________________________________________\n"
     ]
    }
   ],
   "source": [
    "model.summary()"
   ]
  },
  {
   "cell_type": "code",
   "execution_count": null,
   "metadata": {
    "collapsed": false
   },
   "outputs": [
    {
     "name": "stdout",
     "output_type": "stream",
     "text": [
      "Epoch 1/64\n",
      " - 5s - loss: 1.1909 - acc: 0.6242\n",
      "Epoch 2/64\n",
      " - 2s - loss: 0.5434 - acc: 0.8475\n",
      "Epoch 3/64\n",
      " - 2s - loss: 0.4157 - acc: 0.8844\n",
      "Epoch 4/64\n",
      " - 2s - loss: 0.3589 - acc: 0.9010\n",
      "Epoch 5/64\n",
      " - 2s - loss: 0.3121 - acc: 0.9142\n",
      "Epoch 6/64\n",
      " - 2s - loss: 0.2798 - acc: 0.9234\n",
      "Epoch 7/64\n",
      " - 2s - loss: 0.2566 - acc: 0.9286\n",
      "Epoch 8/64\n",
      " - 2s - loss: 0.2387 - acc: 0.9357\n",
      "Epoch 9/64\n",
      " - 2s - loss: 0.2230 - acc: 0.9402\n",
      "Epoch 10/64\n",
      " - 2s - loss: 0.2035 - acc: 0.9443\n",
      "Epoch 11/64\n",
      " - 2s - loss: 0.1907 - acc: 0.9475\n",
      "Epoch 12/64\n",
      " - 2s - loss: 0.1827 - acc: 0.9516\n",
      "Epoch 13/64\n",
      " - 2s - loss: 0.1740 - acc: 0.9529\n",
      "Epoch 14/64\n",
      " - 2s - loss: 0.1757 - acc: 0.9527\n",
      "Epoch 15/64\n",
      " - 3s - loss: 0.1648 - acc: 0.9549\n",
      "Epoch 16/64\n",
      " - 3s - loss: 0.1483 - acc: 0.9598\n",
      "Epoch 17/64\n",
      " - 3s - loss: 0.1509 - acc: 0.9596\n",
      "Epoch 18/64\n",
      " - 3s - loss: 0.1478 - acc: 0.9605\n",
      "Epoch 19/64\n",
      " - 3s - loss: 0.1356 - acc: 0.9631\n",
      "Epoch 20/64\n",
      " - 4s - loss: 0.1310 - acc: 0.9643\n",
      "Epoch 21/64\n",
      " - 2s - loss: 0.1308 - acc: 0.9650\n",
      "Epoch 22/64\n",
      " - 3s - loss: 0.1301 - acc: 0.9639\n",
      "Epoch 23/64\n",
      " - 3s - loss: 0.1380 - acc: 0.9608\n",
      "Epoch 24/64\n",
      " - 2s - loss: 0.1263 - acc: 0.9651\n",
      "Epoch 25/64\n",
      " - 4s - loss: 0.1242 - acc: 0.9658\n",
      "Epoch 26/64\n",
      " - 3s - loss: 0.1162 - acc: 0.9678\n",
      "Epoch 27/64\n",
      " - 3s - loss: 0.1166 - acc: 0.9682\n",
      "Epoch 28/64\n",
      " - 3s - loss: 0.1090 - acc: 0.9709\n",
      "Epoch 29/64\n",
      " - 3s - loss: 0.1055 - acc: 0.9708\n",
      "Epoch 30/64\n",
      " - 3s - loss: 0.1005 - acc: 0.9720\n",
      "Epoch 31/64\n",
      " - 3s - loss: 0.1086 - acc: 0.9707\n",
      "Epoch 32/64\n",
      " - 2s - loss: 0.1016 - acc: 0.9725\n",
      "Epoch 33/64\n",
      " - 2s - loss: 0.1045 - acc: 0.9713\n",
      "Epoch 34/64\n",
      " - 2s - loss: 0.0944 - acc: 0.9746\n",
      "Epoch 35/64\n",
      " - 2s - loss: 0.0929 - acc: 0.9736\n",
      "Epoch 36/64\n"
     ]
    }
   ],
   "source": [
    "# train model\n",
    "model.fit(train_X, train_Y, batch_size=256, epochs=64, verbose=2)"
   ]
  },
  {
   "cell_type": "code",
   "execution_count": null,
   "metadata": {
    "collapsed": true
   },
   "outputs": [],
   "source": [
    "# make prediction\n",
    "preds = model.predict(test_X)\n",
    "preds = np.argmax(preds, axis=1)"
   ]
  },
  {
   "cell_type": "code",
   "execution_count": null,
   "metadata": {
    "collapsed": false
   },
   "outputs": [],
   "source": [
    "preds[1234]"
   ]
  },
  {
   "cell_type": "code",
   "execution_count": null,
   "metadata": {
    "collapsed": false
   },
   "outputs": [],
   "source": [
    "plot_image(test_X[1234])"
   ]
  },
  {
   "cell_type": "code",
   "execution_count": null,
   "metadata": {
    "collapsed": false
   },
   "outputs": [],
   "source": [
    "# output file\n",
    "write_predictions(preds)"
   ]
  },
  {
   "cell_type": "code",
   "execution_count": null,
   "metadata": {
    "collapsed": true
   },
   "outputs": [],
   "source": []
  }
 ],
 "metadata": {
  "kernelspec": {
   "display_name": "Python 3",
   "language": "python",
   "name": "python3"
  },
  "language_info": {
   "codemirror_mode": {
    "name": "ipython",
    "version": 3
   },
   "file_extension": ".py",
   "mimetype": "text/x-python",
   "name": "python",
   "nbconvert_exporter": "python",
   "pygments_lexer": "ipython3",
   "version": "3.6.0"
  }
 },
 "nbformat": 4,
 "nbformat_minor": 2
}
