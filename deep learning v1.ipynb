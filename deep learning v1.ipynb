{
 "cells": [
  {
   "cell_type": "code",
   "execution_count": 1,
   "metadata": {
    "collapsed": false
   },
   "outputs": [
    {
     "name": "stderr",
     "output_type": "stream",
     "text": [
      "Using TensorFlow backend.\n"
     ]
    }
   ],
   "source": [
    "import numpy as np\n",
    "import csv\n",
    "import matplotlib.pyplot as plt\n",
    "from keras.models import Sequential\n",
    "from keras.layers import Dense, Activation, Dropout\n",
    "from keras import optimizers\n",
    "from config import *\n",
    "%matplotlib inline"
   ]
  },
  {
   "cell_type": "code",
   "execution_count": 2,
   "metadata": {
    "collapsed": false
   },
   "outputs": [],
   "source": [
    "train_X, train_Y = read_training_set()\n",
    "test_X = read_test_set()"
   ]
  },
  {
   "cell_type": "code",
   "execution_count": 3,
   "metadata": {
    "collapsed": false
   },
   "outputs": [
    {
     "name": "stdout",
     "output_type": "stream",
     "text": [
      "train_X.shape = (42000, 784)\n",
      "train_Y.shape = (42000, 10)\n",
      "test_X.shape = (28000, 784)\n"
     ]
    }
   ],
   "source": [
    "print('train_X.shape =', train_X.shape)\n",
    "print('train_Y.shape =', train_Y.shape)\n",
    "print('test_X.shape =', test_X.shape)"
   ]
  },
  {
   "cell_type": "code",
   "execution_count": 4,
   "metadata": {
    "collapsed": false
   },
   "outputs": [
    {
     "name": "stdout",
     "output_type": "stream",
     "text": [
      "[0. 0. 0. 0. 0. 0. 1. 0. 0. 0.]\n"
     ]
    },
    {
     "data": {
      "image/png": "[encoded data removed]",
      "text/plain": [
       "<matplotlib.figure.Figure at 0x2083ac88>"
      ]
     },
     "metadata": {},
     "output_type": "display_data"
    }
   ],
   "source": [
    "print(train_Y[123])\n",
    "plot_image(train_X[123])"
   ]
  },
  {
   "cell_type": "code",
   "execution_count": 5,
   "metadata": {
    "collapsed": true
   },
   "outputs": [],
   "source": [
    "# preprocessing\n",
    "train_X = train_X / 255\n",
    "test_X = test_X / 255"
   ]
  },
  {
   "cell_type": "code",
   "execution_count": 6,
   "metadata": {
    "collapsed": false
   },
   "outputs": [],
   "source": [
    "model = Sequential()\n",
    "\n",
    "# model.add(Dense(units=256, input_dim=train_X.shape[0]))\n",
    "# model.add(Activation('relu'))\n",
    "# model.add(Dropout(0.5))\n",
    "\n",
    "model.add(Dense(units=128, input_dim=HEIGHT*WIDTH))\n",
    "model.add(Activation('relu'))\n",
    "model.add(Dropout(0.5))\n",
    "\n",
    "model.add(Dense(units=64))\n",
    "model.add(Activation('relu'))\n",
    "model.add(Dropout(0.5))\n",
    "\n",
    "model.add(Dense(units=CLASS_NUM))\n",
    "model.add(Activation('softmax'))"
   ]
  },
  {
   "cell_type": "code",
   "execution_count": 7,
   "metadata": {
    "collapsed": false
   },
   "outputs": [],
   "source": [
    "model.compile(loss='categorical_crossentropy', optimizer='adam', metrics=['accuracy'])"
   ]
  },
  {
   "cell_type": "code",
   "execution_count": 8,
   "metadata": {
    "collapsed": false
   },
   "outputs": [
    {
     "name": "stdout",
     "output_type": "stream",
     "text": [
      "_________________________________________________________________\n",
      "Layer (type)                 Output Shape              Param #   \n",
      "=================================================================\n",
      "dense_1 (Dense)              (None, 128)               100480    \n",
      "_________________________________________________________________\n",
      "activation_1 (Activation)    (None, 128)               0         \n",
      "_________________________________________________________________\n",
      "dropout_1 (Dropout)          (None, 128)               0         \n",
      "_________________________________________________________________\n",
      "dense_2 (Dense)              (None, 64)                8256      \n",
      "_________________________________________________________________\n",
      "activation_2 (Activation)    (None, 64)                0         \n",
      "_________________________________________________________________\n",
      "dropout_2 (Dropout)          (None, 64)                0         \n",
      "_________________________________________________________________\n",
      "dense_3 (Dense)              (None, 10)                650       \n",
      "_________________________________________________________________\n",
      "activation_3 (Activation)    (None, 10)                0         \n",
      "=================================================================\n",
      "Total params: 109,386\n",
      "Trainable params: 109,386\n",
      "Non-trainable params: 0\n",
      "_________________________________________________________________\n"
     ]
    }
   ],
   "source": [
    "model.summary()"
   ]
  },
  {
   "cell_type": "code",
   "execution_count": 9,
   "metadata": {
    "collapsed": false
   },
   "outputs": [
    {
     "name": "stdout",
     "output_type": "stream",
     "text": [
      "Epoch 1/64\n",
      " - 3s - loss: 1.0239 - acc: 0.6631\n",
      "Epoch 2/64\n",
      " - 2s - loss: 0.4770 - acc: 0.8613\n",
      "Epoch 3/64\n",
      " - 1s - loss: 0.3827 - acc: 0.8914\n",
      "Epoch 4/64\n",
      " - 2s - loss: 0.3265 - acc: 0.9070\n",
      "Epoch 5/64\n",
      " - 1s - loss: 0.2964 - acc: 0.9166\n",
      "Epoch 6/64\n",
      " - 1s - loss: 0.2751 - acc: 0.9220\n",
      "Epoch 7/64\n",
      " - 2s - loss: 0.2509 - acc: 0.9302\n",
      "Epoch 8/64\n",
      " - 2s - loss: 0.2319 - acc: 0.9351\n",
      "Epoch 9/64\n",
      " - 1s - loss: 0.2173 - acc: 0.9393\n",
      "Epoch 10/64\n",
      " - 1s - loss: 0.2134 - acc: 0.9400\n",
      "Epoch 11/64\n",
      " - 1s - loss: 0.2057 - acc: 0.9409\n",
      "Epoch 12/64\n",
      " - 2s - loss: 0.1902 - acc: 0.9451\n",
      "Epoch 13/64\n",
      " - 2s - loss: 0.1946 - acc: 0.9430\n",
      "Epoch 14/64\n",
      " - 1s - loss: 0.1795 - acc: 0.9492\n",
      "Epoch 15/64\n",
      " - 1s - loss: 0.1717 - acc: 0.9507\n",
      "Epoch 16/64\n",
      " - 1s - loss: 0.1681 - acc: 0.9516\n",
      "Epoch 17/64\n",
      " - 1s - loss: 0.1644 - acc: 0.9524\n",
      "Epoch 18/64\n",
      " - 1s - loss: 0.1576 - acc: 0.9559\n",
      "Epoch 19/64\n",
      " - 1s - loss: 0.1526 - acc: 0.9562\n",
      "Epoch 20/64\n",
      " - 1s - loss: 0.1504 - acc: 0.9571\n",
      "Epoch 21/64\n",
      " - 1s - loss: 0.1513 - acc: 0.9575\n",
      "Epoch 22/64\n",
      " - 1s - loss: 0.1445 - acc: 0.9586\n",
      "Epoch 23/64\n",
      " - 1s - loss: 0.1419 - acc: 0.9584\n",
      "Epoch 24/64\n",
      " - 1s - loss: 0.1377 - acc: 0.9603\n",
      "Epoch 25/64\n",
      " - 1s - loss: 0.1366 - acc: 0.9603\n",
      "Epoch 26/64\n",
      " - 1s - loss: 0.1296 - acc: 0.9620\n",
      "Epoch 27/64\n",
      " - 2s - loss: 0.1280 - acc: 0.9624\n",
      "Epoch 28/64\n",
      " - 1s - loss: 0.1293 - acc: 0.9612\n",
      "Epoch 29/64\n",
      " - 1s - loss: 0.1259 - acc: 0.9634\n",
      "Epoch 30/64\n",
      " - 1s - loss: 0.1236 - acc: 0.9633\n",
      "Epoch 31/64\n",
      " - 1s - loss: 0.1217 - acc: 0.9644\n",
      "Epoch 32/64\n",
      " - 1s - loss: 0.1201 - acc: 0.9649\n",
      "Epoch 33/64\n",
      " - 1s - loss: 0.1188 - acc: 0.9653\n",
      "Epoch 34/64\n",
      " - 1s - loss: 0.1205 - acc: 0.9644\n",
      "Epoch 35/64\n",
      " - 1s - loss: 0.1133 - acc: 0.9661\n",
      "Epoch 36/64\n",
      " - 1s - loss: 0.1161 - acc: 0.9655\n",
      "Epoch 37/64\n",
      " - 2s - loss: 0.1116 - acc: 0.9669\n",
      "Epoch 38/64\n",
      " - 2s - loss: 0.1121 - acc: 0.9673\n",
      "Epoch 39/64\n",
      " - 2s - loss: 0.1106 - acc: 0.9668\n",
      "Epoch 40/64\n",
      " - 1s - loss: 0.1099 - acc: 0.9674\n",
      "Epoch 41/64\n",
      " - 1s - loss: 0.1108 - acc: 0.9664\n",
      "Epoch 42/64\n",
      " - 2s - loss: 0.1058 - acc: 0.9680\n",
      "Epoch 43/64\n",
      " - 2s - loss: 0.1048 - acc: 0.9679\n",
      "Epoch 44/64\n",
      " - 3s - loss: 0.1068 - acc: 0.9675\n",
      "Epoch 45/64\n",
      " - 2s - loss: 0.1041 - acc: 0.9685\n",
      "Epoch 46/64\n",
      " - 2s - loss: 0.1035 - acc: 0.9692\n",
      "Epoch 47/64\n",
      " - 1s - loss: 0.1028 - acc: 0.9690\n",
      "Epoch 48/64\n",
      " - 2s - loss: 0.0988 - acc: 0.9694\n",
      "Epoch 49/64\n",
      " - 1s - loss: 0.0949 - acc: 0.9709\n",
      "Epoch 50/64\n",
      " - 1s - loss: 0.0970 - acc: 0.9701\n",
      "Epoch 51/64\n",
      " - 1s - loss: 0.0970 - acc: 0.9713\n",
      "Epoch 52/64\n",
      " - 2s - loss: 0.0922 - acc: 0.9718\n",
      "Epoch 53/64\n",
      " - 1s - loss: 0.0959 - acc: 0.9709\n",
      "Epoch 54/64\n",
      " - 1s - loss: 0.0956 - acc: 0.9708\n",
      "Epoch 55/64\n",
      " - 2s - loss: 0.0929 - acc: 0.9725\n",
      "Epoch 56/64\n",
      " - 2s - loss: 0.0942 - acc: 0.9717\n",
      "Epoch 57/64\n",
      " - 2s - loss: 0.0912 - acc: 0.9726\n",
      "Epoch 58/64\n",
      " - 2s - loss: 0.0912 - acc: 0.9724\n",
      "Epoch 59/64\n",
      " - 2s - loss: 0.0881 - acc: 0.9730\n",
      "Epoch 60/64\n",
      " - 2s - loss: 0.0922 - acc: 0.9718\n",
      "Epoch 61/64\n",
      " - 2s - loss: 0.0960 - acc: 0.9710\n",
      "Epoch 62/64\n",
      " - 2s - loss: 0.0907 - acc: 0.9726\n",
      "Epoch 63/64\n",
      " - 2s - loss: 0.0913 - acc: 0.9724\n",
      "Epoch 64/64\n",
      " - 2s - loss: 0.0863 - acc: 0.9732\n"
     ]
    },
    {
     "data": {
      "text/plain": [
       "<keras.callbacks.History at 0x2189b748>"
      ]
     },
     "execution_count": 9,
     "metadata": {},
     "output_type": "execute_result"
    }
   ],
   "source": [
    "# train model\n",
    "model.fit(train_X, train_Y, batch_size=256, epochs=64, verbose=2)"
   ]
  },
  {
   "cell_type": "code",
   "execution_count": 10,
   "metadata": {
    "collapsed": true
   },
   "outputs": [],
   "source": [
    "# make prediction\n",
    "preds = model.predict(test_X)\n",
    "preds = np.argmax(preds, axis=1)"
   ]
  },
  {
   "cell_type": "code",
   "execution_count": 11,
   "metadata": {
    "collapsed": false
   },
   "outputs": [
    {
     "data": {
      "text/plain": [
       "4"
      ]
     },
     "execution_count": 11,
     "metadata": {},
     "output_type": "execute_result"
    }
   ],
   "source": [
    "preds[1234]"
   ]
  },
  {
   "cell_type": "code",
   "execution_count": 12,
   "metadata": {
    "collapsed": false
   },
   "outputs": [
    {
     "data": {
      "image/png": "[encoded data removed]",
      "text/plain": [
       "<matplotlib.figure.Figure at 0x2189b6a0>"
      ]
     },
     "metadata": {},
     "output_type": "display_data"
    }
   ],
   "source": [
    "plot_image(test_X[1234])"
   ]
  },
  {
   "cell_type": "code",
   "execution_count": 13,
   "metadata": {
    "collapsed": false
   },
   "outputs": [
    {
     "data": {
      "text/plain": [
       "<_csv.writer at 0x29133bf8>"
      ]
     },
     "execution_count": 13,
     "metadata": {},
     "output_type": "execute_result"
    }
   ],
   "source": [
    "# output file\n",
    "write_predictions(preds)"
   ]
  },
  {
   "cell_type": "code",
   "execution_count": null,
   "metadata": {
    "collapsed": true
   },
   "outputs": [],
   "source": []
  }
 ],
 "metadata": {
  "kernelspec": {
   "display_name": "Python 3",
   "language": "python",
   "name": "python3"
  },
  "language_info": {
   "codemirror_mode": {
    "name": "ipython",
    "version": 3
   },
   "file_extension": ".py",
   "mimetype": "text/x-python",
   "name": "python",
   "nbconvert_exporter": "python",
   "pygments_lexer": "ipython3",
   "version": "3.6.0"
  }
 },
 "nbformat": 4,
 "nbformat_minor": 2
}
